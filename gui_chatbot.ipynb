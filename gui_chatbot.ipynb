{
 "cells": [
  {
   "cell_type": "code",
   "execution_count": 3,
   "id": "9d995dc5-38cf-4402-9ae8-a8d774717af6",
   "metadata": {},
   "outputs": [],
   "source": [
    "import nltk\n",
    "from nltk.stem import WordNetLemmatizer\n",
    "import pickle\n",
    "import numpy as np\n",
    "from keras.models import load_model\n",
    "import json\n",
    "import random\n",
    "import tkinter as tk\n",
    "from tkinter import Scrollbar, Text, Button"
   ]
  },
  {
   "cell_type": "code",
   "execution_count": 4,
   "id": "be6919f2-ffbf-4a62-aa79-ee54350fac73",
   "metadata": {},
   "outputs": [
    {
     "name": "stdout",
     "output_type": "stream",
     "text": [
      "WARNING:tensorflow:From c:\\Users\\Sujon\\anaconda3\\Lib\\site-packages\\keras\\src\\backend.py:1398: The name tf.executing_eagerly_outside_functions is deprecated. Please use tf.compat.v1.executing_eagerly_outside_functions instead.\n",
      "\n"
     ]
    }
   ],
   "source": [
    "# Initialize the lemmatizer\n",
    "lemmatizer = WordNetLemmatizer()\n",
    "\n",
    "# Load model and data\n",
    "model = load_model('chatbot_model.h5')\n",
    "intents = json.loads(open('intents.json').read())\n",
    "words = pickle.load(open('words.pkl', 'rb'))\n",
    "classes = pickle.load(open('classes.pkl', 'rb'))"
   ]
  },
  {
   "cell_type": "code",
   "execution_count": 5,
   "id": "138ab96d-1246-4b6d-b4de-2c776988cedb",
   "metadata": {},
   "outputs": [],
   "source": [
    "\n",
    "# Clean up sentence by tokenizing and lemmatizing\n",
    "def clean_up_sentence(sentence):\n",
    "    sentence_words = nltk.word_tokenize(sentence)\n",
    "    sentence_words = [lemmatizer.lemmatize(word.lower()) for word in sentence_words]\n",
    "    return sentence_words"
   ]
  },
  {
   "cell_type": "code",
   "execution_count": 6,
   "id": "71c2172d-cee8-4f5e-8566-1f5903ebfaa2",
   "metadata": {},
   "outputs": [],
   "source": [
    "# Create bag of words array\n",
    "def bag_of_words(sentence, words, show_details=True):\n",
    "    sentence_words = clean_up_sentence(sentence)\n",
    "    bag = [0]*len(words)\n",
    "    for s in sentence_words:\n",
    "        for i, word in enumerate(words):\n",
    "            if word == s:\n",
    "                bag[i] = 1\n",
    "                if show_details:\n",
    "                    print(f\"found in bag: {word}\")\n",
    "    return np.array(bag)\n"
   ]
  },
  {
   "cell_type": "code",
   "execution_count": 7,
   "id": "4cadef77-44a8-4e8f-9390-b1308382a85a",
   "metadata": {},
   "outputs": [],
   "source": [
    "# Predict class\n",
    "def predict_class(sentence):\n",
    "    p = bag_of_words(sentence, words, show_details=False)\n",
    "    res = model.predict(np.array([p]))[0]\n",
    "    ERROR_THRESHOLD = 0.25\n",
    "    results = [[i, r] for i, r in enumerate(res) if r > ERROR_THRESHOLD]\n",
    "    results.sort(key=lambda x: x[1], reverse=True)\n",
    "    return_list = [{\"intent\": classes[r[0]], \"probability\": str(r[1])} for r in results]\n",
    "    return return_list"
   ]
  },
  {
   "cell_type": "code",
   "execution_count": 8,
   "id": "25612a74-1807-4527-80fb-8e0bc1deae30",
   "metadata": {},
   "outputs": [],
   "source": [
    "# Get response from intents\n",
    "def getResponse(ints, intents_json):\n",
    "    if not ints:\n",
    "        return \"Sorry, I didn't understand that.\"\n",
    "    \n",
    "    tag = ints[0]['intent']\n",
    "    list_of_intents = intents_json['intents']\n",
    "    for i in list_of_intents:\n",
    "        if i['tag'] == tag:\n",
    "            return random.choice(i['responses'])\n",
    "    return \"Sorry, I didn't understand that.\"\n"
   ]
  },
  {
   "cell_type": "code",
   "execution_count": 9,
   "id": "dfccced2-2dc6-4325-84d0-9584bb159855",
   "metadata": {},
   "outputs": [],
   "source": [
    "# Send message function for GUI\n",
    "def send():\n",
    "    msg = EntryBox.get(\"1.0\", 'end-1c').strip()\n",
    "    EntryBox.delete(\"1.0\", tk.END)\n",
    "\n",
    "    if msg:\n",
    "        ChatBox.config(state=tk.NORMAL)\n",
    "        ChatBox.insert(tk.END, \"You: \" + msg + '\\n\\n')\n",
    "        ChatBox.config(foreground=\"#446665\", font=(\"Verdana\", 12))\n",
    "    \n",
    "        ints = predict_class(msg)\n",
    "        res = getResponse(ints, intents)\n",
    "        \n",
    "        ChatBox.insert(tk.END, \"Bot: \" + res + '\\n\\n')\n",
    "        ChatBox.config(state=tk.DISABLED)\n",
    "        ChatBox.yview(tk.END)\n"
   ]
  },
  {
   "cell_type": "code",
   "execution_count": 10,
   "id": "9cb48a21-a5b5-4713-a39b-60a912825fe8",
   "metadata": {},
   "outputs": [],
   "source": [
    "# Create main window\n",
    "root = tk.Tk()\n",
    "root.title(\"Chatbot\")\n",
    "root.geometry(\"400x500\")\n",
    "root.resizable(width=False, height=False)\n",
    "\n",
    "# Create chat window\n",
    "ChatBox = Text(root, bd=0, bg=\"white\", height=\"8\", width=\"50\", font=\"Arial\")\n",
    "ChatBox.config(state=tk.DISABLED)\n",
    "\n",
    "# Create scrollbar\n",
    "scrollbar = Scrollbar(root, command=ChatBox.yview, cursor=\"heart\")\n",
    "ChatBox['yscrollcommand'] = scrollbar.set\n",
    "\n",
    "# Create send button\n",
    "SendButton = Button(root, font=(\"Verdana\", 12, 'bold'), text=\"Send\", width=\"12\", height=\"5\",\n",
    "                    bd=0, bg=\"#f9a602\", activebackground=\"#3c9d9b\", fg='#000000',\n",
    "                    command=send)\n",
    "\n",
    "# Create entry box\n",
    "EntryBox = Text(root, bd=0, bg=\"white\", width=\"29\", height=\"5\", font=\"Arial\")\n",
    "\n"
   ]
  },
  {
   "cell_type": "code",
   "execution_count": 11,
   "id": "a46887bb-319e-4ba7-8139-9152518e49cf",
   "metadata": {},
   "outputs": [
    {
     "name": "stdout",
     "output_type": "stream",
     "text": [
      "1/1 [==============================] - 0s 146ms/step\n",
      "1/1 [==============================] - 0s 31ms/step\n",
      "1/1 [==============================] - 0s 26ms/step\n",
      "1/1 [==============================] - 0s 25ms/step\n",
      "1/1 [==============================] - 0s 26ms/step\n",
      "1/1 [==============================] - 0s 27ms/step\n",
      "1/1 [==============================] - 0s 25ms/step\n"
     ]
    }
   ],
   "source": [
    "# Place all components on the screen\n",
    "scrollbar.place(x=376, y=6, height=386)\n",
    "ChatBox.place(x=6, y=6, height=386, width=370)\n",
    "EntryBox.place(x=128, y=401, height=90, width=265)\n",
    "SendButton.place(x=6, y=401, height=90)\n",
    "\n",
    "# Run the application\n",
    "root.mainloop()"
   ]
  },
  {
   "cell_type": "code",
   "execution_count": null,
   "id": "2fffc5e4-ce8e-47b2-9ebd-575609508f54",
   "metadata": {},
   "outputs": [],
   "source": []
  }
 ],
 "metadata": {
  "kernelspec": {
   "display_name": "Python 3 (ipykernel)",
   "language": "python",
   "name": "python3"
  },
  "language_info": {
   "codemirror_mode": {
    "name": "ipython",
    "version": 3
   },
   "file_extension": ".py",
   "mimetype": "text/x-python",
   "name": "python",
   "nbconvert_exporter": "python",
   "pygments_lexer": "ipython3",
   "version": "3.11.5"
  }
 },
 "nbformat": 4,
 "nbformat_minor": 5
}
