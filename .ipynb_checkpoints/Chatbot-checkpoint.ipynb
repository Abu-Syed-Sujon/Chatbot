{
 "cells": [
  {
   "cell_type": "markdown",
   "id": "6c271c94-d985-4853-bd88-5e43d3326762",
   "metadata": {},
   "source": [
    "<h1>Import Libraries</h1> "
   ]
  },
  {
   "cell_type": "code",
   "execution_count": 1,
   "id": "d33d7bd3-a460-4972-b1e5-f7debd52528a",
   "metadata": {},
   "outputs": [
    {
     "name": "stdout",
     "output_type": "stream",
     "text": [
      "WARNING:tensorflow:From C:\\Users\\Sujon\\anaconda3\\Lib\\site-packages\\keras\\src\\losses.py:2976: The name tf.losses.sparse_softmax_cross_entropy is deprecated. Please use tf.compat.v1.losses.sparse_softmax_cross_entropy instead.\n",
      "\n"
     ]
    }
   ],
   "source": [
    "import numpy as np\n",
    "from keras.models import Sequential\n",
    "from keras.layers import Dense, Activation, Dropout\n",
    "from keras.optimizers import SGD\n",
    "import random\n",
    "import nltk\n",
    "from nltk.stem import WordNetLemmatizer\n",
    "\n",
    "lemmatizer = WordNetLemmatizer()\n",
    "\n",
    "import json\n",
    "import pickle"
   ]
  },
  {
   "cell_type": "markdown",
   "id": "562f7fe7-cd62-407c-891e-a9c844d73f75",
   "metadata": {},
   "source": [
    "<h1>Load the Data</h1>"
   ]
  },
  {
   "cell_type": "code",
   "execution_count": 2,
   "id": "e6919f66-5100-46f1-80de-cad22ff63340",
   "metadata": {},
   "outputs": [],
   "source": [
    "intents_file = open('intents.json').read()\n",
    "intents = json.loads(intents_file)"
   ]
  },
  {
   "cell_type": "markdown",
   "id": "15c7f579-cf36-4f8e-8808-b05774a340e0",
   "metadata": {},
   "source": [
    "<h1>Preprocessing the Data</h1>"
   ]
  },
  {
   "cell_type": "code",
   "execution_count": 3,
   "id": "40693d88-7222-4acf-b3af-a05464f741ca",
   "metadata": {},
   "outputs": [
    {
     "name": "stdout",
     "output_type": "stream",
     "text": [
      "[(['Hi', 'there'], 'greeting'), (['How', 'are', 'you'], 'greeting'), (['Is', 'anyone', 'there', '?'], 'greeting'), (['Hey'], 'greeting'), (['Hola'], 'greeting'), (['Hello'], 'greeting'), (['Good', 'day'], 'greeting'), (['Bye'], 'goodbye'), (['See', 'you', 'later'], 'goodbye'), (['Goodbye'], 'goodbye'), (['Nice', 'chatting', 'to', 'you', ',', 'bye'], 'goodbye'), (['Till', 'next', 'time'], 'goodbye'), (['Thanks'], 'thanks'), (['Thank', 'you'], 'thanks'), (['That', \"'s\", 'helpful'], 'thanks'), (['Awesome', ',', 'thanks'], 'thanks'), (['Thanks', 'for', 'helping', 'me'], 'thanks'), (['How', 'you', 'could', 'help', 'me', '?'], 'options'), (['What', 'you', 'can', 'do', '?'], 'options'), (['What', 'help', 'you', 'provide', '?'], 'options'), (['How', 'you', 'can', 'be', 'helpful', '?'], 'options'), (['What', 'support', 'is', 'offered'], 'options'), (['How', 'to', 'check', 'Adverse', 'drug', 'reaction', '?'], 'adverse_drug'), (['Open', 'adverse', 'drugs', 'module'], 'adverse_drug'), (['Give', 'me', 'a', 'list', 'of', 'drugs', 'causing', 'adverse', 'behavior'], 'adverse_drug'), (['List', 'all', 'drugs', 'suitable', 'for', 'patient', 'with', 'adverse', 'reaction'], 'adverse_drug'), (['Which', 'drugs', 'dont', 'have', 'adverse', 'reaction', '?'], 'adverse_drug'), (['Open', 'blood', 'pressure', 'module'], 'blood_pressure'), (['Task', 'related', 'to', 'blood', 'pressure'], 'blood_pressure'), (['Blood', 'pressure', 'data', 'entry'], 'blood_pressure'), (['I', 'want', 'to', 'log', 'blood', 'pressure', 'results'], 'blood_pressure'), (['Blood', 'pressure', 'data', 'management'], 'blood_pressure'), (['I', 'want', 'to', 'search', 'for', 'blood', 'pressure', 'result', 'history'], 'blood_pressure_search'), (['Blood', 'pressure', 'for', 'patient'], 'blood_pressure_search'), (['Load', 'patient', 'blood', 'pressure', 'result'], 'blood_pressure_search'), (['Show', 'blood', 'pressure', 'results', 'for', 'patient'], 'blood_pressure_search'), (['Find', 'blood', 'pressure', 'results', 'by', 'ID'], 'blood_pressure_search'), (['Find', 'me', 'a', 'pharmacy'], 'pharmacy_search'), (['Find', 'pharmacy'], 'pharmacy_search'), (['List', 'of', 'pharmacies', 'nearby'], 'pharmacy_search'), (['Locate', 'pharmacy'], 'pharmacy_search'), (['Search', 'pharmacy'], 'pharmacy_search'), (['Lookup', 'for', 'hospital'], 'hospital_search'), (['Searching', 'for', 'hospital', 'to', 'transfer', 'patient'], 'hospital_search'), (['I', 'want', 'to', 'search', 'hospital', 'data'], 'hospital_search'), (['Hospital', 'lookup', 'for', 'patient'], 'hospital_search'), (['Looking', 'up', 'hospital', 'details'], 'hospital_search')]\n"
     ]
    },
    {
     "name": "stderr",
     "output_type": "stream",
     "text": [
      "[nltk_data] Downloading package punkt to\n",
      "[nltk_data]     C:\\Users\\Sujon\\AppData\\Roaming\\nltk_data...\n",
      "[nltk_data]   Package punkt is already up-to-date!\n"
     ]
    }
   ],
   "source": [
    "import nltk\n",
    "nltk.download('punkt')\n",
    "\n",
    "words = []\n",
    "classes = []\n",
    "documents = []\n",
    "ignore_letters = ['!', '?', ',', '.']\n",
    "\n",
    "for intent in intents['intents']:\n",
    "    for pattern in intent['patterns']:\n",
    "        # Tokenize each word\n",
    "        tokenized_words = nltk.word_tokenize(pattern)\n",
    "        words.extend(tokenized_words)   \n",
    "        \n",
    "        # Add documents in the corpus\n",
    "        documents.append((tokenized_words, intent['tag']))\n",
    "        \n",
    "        # Add to our classes list\n",
    "        if intent['tag'] not in classes:\n",
    "            classes.append(intent['tag'])\n",
    "\n",
    "print(documents)\n"
   ]
  },
  {
   "cell_type": "markdown",
   "id": "60143388-99c1-41c5-b5c0-be4b1c544612",
   "metadata": {},
   "source": [
    "<h1>Lemmatize each word and remove the duplicate words</h1>"
   ]
  },
  {
   "cell_type": "code",
   "execution_count": 4,
   "id": "3ae679c5-0716-4c67-902d-8e2befbd1aa2",
   "metadata": {},
   "outputs": [
    {
     "name": "stderr",
     "output_type": "stream",
     "text": [
      "[nltk_data] Downloading package wordnet to\n",
      "[nltk_data]     C:\\Users\\Sujon\\AppData\\Roaming\\nltk_data...\n",
      "[nltk_data]   Package wordnet is already up-to-date!\n"
     ]
    },
    {
     "name": "stdout",
     "output_type": "stream",
     "text": [
      "47 documents\n",
      "9 classes ['adverse_drug', 'blood_pressure', 'blood_pressure_search', 'goodbye', 'greeting', 'hospital_search', 'options', 'pharmacy_search', 'thanks']\n",
      "87 unique lemmatized words [\"'s\", 'a', 'adverse', 'all', 'anyone', 'are', 'awesome', 'be', 'behavior', 'blood', 'by', 'bye', 'can', 'causing', 'chatting', 'check', 'could', 'data', 'day', 'detail', 'do', 'dont', 'drug', 'entry', 'find', 'for', 'give', 'good', 'goodbye', 'have', 'hello', 'help', 'helpful', 'helping', 'hey', 'hi', 'history', 'hola', 'hospital', 'how', 'i', 'id', 'is', 'later', 'list', 'load', 'locate', 'log', 'looking', 'lookup', 'management', 'me', 'module', 'nearby', 'next', 'nice', 'of', 'offered', 'open', 'patient', 'pharmacy', 'pressure', 'provide', 'reaction', 'related', 'result', 'search', 'searching', 'see', 'show', 'suitable', 'support', 'task', 'thank', 'thanks', 'that', 'there', 'till', 'time', 'to', 'transfer', 'up', 'want', 'what', 'which', 'with', 'you']\n"
     ]
    }
   ],
   "source": [
    "import nltk\n",
    "from nltk.stem import WordNetLemmatizer\n",
    "import pickle\n",
    "\n",
    "# Ensure 'punkt' and 'wordnet' resources are available\n",
    "try:\n",
    "    nltk.data.find('tokenizers/punkt')\n",
    "except LookupError:\n",
    "    nltk.download('punkt')\n",
    "\n",
    "try:\n",
    "    nltk.data.find('corpora/wordnet')\n",
    "except LookupError:\n",
    "    nltk.download('wordnet')\n",
    "\n",
    "# Initialize the lemmatizer\n",
    "lemmatizer = WordNetLemmatizer()\n",
    "\n",
    "# Your pre-existing lists\n",
    "words = []\n",
    "classes = []\n",
    "documents = []\n",
    "ignore_letters = ['!', '?', ',', '.']\n",
    "\n",
    "# Assuming you already have 'intents' dictionary populated from previous steps\n",
    "for intent in intents['intents']:\n",
    "    for pattern in intent['patterns']:\n",
    "        # Tokenize each word\n",
    "        tokenized_words = nltk.word_tokenize(pattern)\n",
    "        words.extend(tokenized_words)\n",
    "        documents.append((tokenized_words, intent['tag']))\n",
    "        if intent['tag'] not in classes:\n",
    "            classes.append(intent['tag'])\n",
    "\n",
    "# Lemmatize, lower each word and remove duplicates\n",
    "words = [lemmatizer.lemmatize(w.lower()) for w in words if w not in ignore_letters]\n",
    "words = sorted(list(set(words)))\n",
    "\n",
    "# Sort classes\n",
    "classes = sorted(list(set(classes)))\n",
    "\n",
    "# Print results\n",
    "print(len(documents), \"documents\")\n",
    "print(len(classes), \"classes\", classes)\n",
    "print(len(words), \"unique lemmatized words\", words)\n",
    "\n",
    "# Save words and classes to pickle files\n",
    "pickle.dump(words, open('words.pkl', 'wb'))\n",
    "pickle.dump(classes, open('classes.pkl', 'wb'))\n"
   ]
  },
  {
   "cell_type": "markdown",
   "id": "30bc073f-14de-43c9-9157-d94a8685b098",
   "metadata": {},
   "source": [
    "<h1>Create Training and Testing Data</h1>"
   ]
  },
  {
   "cell_type": "code",
   "execution_count": 7,
   "id": "6dc12c15-4128-4b17-8c23-834ca6a4fc3b",
   "metadata": {},
   "outputs": [
    {
     "name": "stdout",
     "output_type": "stream",
     "text": [
      "Training data is created\n"
     ]
    }
   ],
   "source": [
    "# create the training data\n",
    "training = []\n",
    "output = []\n",
    "# create empty array for the output\n",
    "output_empty = np.zeros((len(classes),))\n",
    "\n",
    "# training set, bag of words for every sentence\n",
    "for doc in documents:\n",
    "    # initializing bag of words\n",
    "    bag = np.zeros((len(words),))\n",
    "    # list of tokenized words for the pattern\n",
    "    word_patterns = doc[0]\n",
    "    # lemmatize each word - create base word, in an attempt to represent related words\n",
    "    word_patterns = [lemmatizer.lemmatize(word.lower()) for word in word_patterns]\n",
    "    # create the bag of words array with 1, if the word is found in the current pattern\n",
    "    for i, word in enumerate(words):\n",
    "        bag[i] = 1 if word in word_patterns else 0\n",
    "    \n",
    "    # output is a '0' for each tag and '1' for the current tag (for each pattern)\n",
    "    output_row = output_empty.copy()\n",
    "    output_row[classes.index(doc[1])] = 1\n",
    "    training.append(bag)\n",
    "    output.append(output_row)\n",
    "\n",
    "# convert lists to numpy arrays\n",
    "training = np.array(training)\n",
    "output = np.array(output)\n",
    "\n",
    "# shuffle the features and make a numpy array\n",
    "indices = np.arange(training.shape[0])\n",
    "np.random.shuffle(indices)\n",
    "training = training[indices]\n",
    "output = output[indices]\n",
    "\n",
    "# create training and testing lists. X - patterns, Y - intents\n",
    "train_x = training\n",
    "train_y = output\n",
    "\n",
    "print(\"Training data is created\")\n",
    "\n"
   ]
  },
  {
   "cell_type": "markdown",
   "id": "f91ab487-8ed3-4cd2-b033-df03534c5109",
   "metadata": {},
   "source": [
    "<h1>Create Model</h1>"
   ]
  },
  {
   "cell_type": "code",
   "execution_count": 8,
   "id": "124ee66c-90df-4ea4-ac79-1c3fd08a3183",
   "metadata": {},
   "outputs": [
    {
     "name": "stdout",
     "output_type": "stream",
     "text": [
      "WARNING:tensorflow:From C:\\Users\\Sujon\\anaconda3\\Lib\\site-packages\\keras\\src\\backend.py:873: The name tf.get_default_graph is deprecated. Please use tf.compat.v1.get_default_graph instead.\n",
      "\n"
     ]
    }
   ],
   "source": [
    "# deep neural networds model\n",
    "\n",
    "model = Sequential()\n",
    "model.add(Dense(128, input_shape=(len(train_x[0]),), activation='relu'))\n",
    "model.add(Dropout(0.5))\n",
    "model.add(Dense(64, activation='relu'))\n",
    "model.add(Dropout(0.5))\n",
    "model.add(Dense(len(train_y[0]), activation='softmax'))"
   ]
  },
  {
   "cell_type": "markdown",
   "id": "e52ed959-f2f3-4694-8606-c084cde2cc21",
   "metadata": {},
   "source": [
    "<h1>Compile the model</h1>"
   ]
  },
  {
   "cell_type": "code",
   "execution_count": 11,
   "id": "fe123d46-8cec-42fa-84db-cf716b72eae4",
   "metadata": {},
   "outputs": [],
   "source": [
    "# Compiling model. SGD with Nesterov accelerated gradient gives good results for this model\n",
    "\n",
    "from tensorflow.keras.optimizers import SGD\n",
    "from tensorflow.keras.optimizers.schedules import ExponentialDecay\n",
    "\n",
    "# Define an exponential decay learning rate schedule\n",
    "initial_learning_rate = 0.01\n",
    "lr_schedule = ExponentialDecay(\n",
    "    initial_learning_rate=initial_learning_rate,\n",
    "    decay_steps=1000,  # Number of steps before applying decay\n",
    "    decay_rate=0.96,   # Decay rate\n",
    "    staircase=True     # If True, the learning rate is decayed at discrete intervals\n",
    ")\n",
    "\n",
    "# Initialize the SGD optimizer with the learning rate schedule\n",
    "sgd = SGD(learning_rate=lr_schedule, momentum=0.9, nesterov=True)\n",
    "\n",
    "# Compile the model with categorical crossentropy loss and the SGD optimizer\n",
    "model.compile(loss='categorical_crossentropy', optimizer=sgd, metrics=['accuracy'])\n",
    "\n"
   ]
  },
  {
   "cell_type": "markdown",
   "id": "8c718d39-b090-4039-9fe8-240bb00379aa",
   "metadata": {},
   "source": [
    "<h1>Training the Model</h1>"
   ]
  },
  {
   "cell_type": "code",
   "execution_count": 12,
   "id": "ec11b1db-45c7-4849-bb1d-0d827799828a",
   "metadata": {},
   "outputs": [
    {
     "name": "stdout",
     "output_type": "stream",
     "text": [
      "Epoch 1/5\n",
      "WARNING:tensorflow:From C:\\Users\\Sujon\\anaconda3\\Lib\\site-packages\\keras\\src\\utils\\tf_utils.py:492: The name tf.ragged.RaggedTensorValue is deprecated. Please use tf.compat.v1.ragged.RaggedTensorValue instead.\n",
      "\n"
     ]
    },
    {
     "name": "stderr",
     "output_type": "stream",
     "text": [
      "WARNING:tensorflow:From C:\\Users\\Sujon\\anaconda3\\Lib\\site-packages\\keras\\src\\utils\\tf_utils.py:492: The name tf.ragged.RaggedTensorValue is deprecated. Please use tf.compat.v1.ragged.RaggedTensorValue instead.\n",
      "\n"
     ]
    },
    {
     "name": "stdout",
     "output_type": "stream",
     "text": [
      "WARNING:tensorflow:From C:\\Users\\Sujon\\anaconda3\\Lib\\site-packages\\keras\\src\\engine\\base_layer_utils.py:384: The name tf.executing_eagerly_outside_functions is deprecated. Please use tf.compat.v1.executing_eagerly_outside_functions instead.\n",
      "\n"
     ]
    },
    {
     "name": "stderr",
     "output_type": "stream",
     "text": [
      "WARNING:tensorflow:From C:\\Users\\Sujon\\anaconda3\\Lib\\site-packages\\keras\\src\\engine\\base_layer_utils.py:384: The name tf.executing_eagerly_outside_functions is deprecated. Please use tf.compat.v1.executing_eagerly_outside_functions instead.\n",
      "\n"
     ]
    },
    {
     "name": "stdout",
     "output_type": "stream",
     "text": [
      "10/10 [==============================] - 1s 3ms/step - loss: 2.2437 - accuracy: 0.0851\n",
      "Epoch 2/5\n",
      "10/10 [==============================] - 0s 2ms/step - loss: 2.1138 - accuracy: 0.1702\n",
      "Epoch 3/5\n",
      "10/10 [==============================] - 0s 2ms/step - loss: 2.1038 - accuracy: 0.2128\n",
      "Epoch 4/5\n",
      "10/10 [==============================] - 0s 5ms/step - loss: 1.9499 - accuracy: 0.4681\n",
      "Epoch 5/5\n",
      "10/10 [==============================] - 0s 4ms/step - loss: 1.8398 - accuracy: 0.4255\n"
     ]
    },
    {
     "name": "stderr",
     "output_type": "stream",
     "text": [
      "C:\\Users\\Sujon\\anaconda3\\Lib\\site-packages\\keras\\src\\engine\\training.py:3103: UserWarning: You are saving your model as an HDF5 file via `model.save()`. This file format is considered legacy. We recommend using instead the native Keras format, e.g. `model.save('my_model.keras')`.\n",
      "  saving_api.save_model(\n"
     ]
    },
    {
     "name": "stdout",
     "output_type": "stream",
     "text": [
      "model is created\n"
     ]
    }
   ],
   "source": [
    "#Training and saving the model \n",
    "\n",
    "hist = model.fit(np.array(train_x), \n",
    "                 np.array(train_y), \n",
    "                 epochs=5, \n",
    "                 batch_size=5, \n",
    "                 verbose=1)\n",
    "\n",
    "model.save('chatbot_model.h5', hist)\n",
    "\n",
    "print(\"model is created\")\n"
   ]
  },
  {
   "cell_type": "code",
   "execution_count": null,
   "id": "450fe29f-3bbb-45cb-a250-7d407ef645d5",
   "metadata": {},
   "outputs": [],
   "source": []
  }
 ],
 "metadata": {
  "kernelspec": {
   "display_name": "Python 3 (ipykernel)",
   "language": "python",
   "name": "python3"
  },
  "language_info": {
   "codemirror_mode": {
    "name": "ipython",
    "version": 3
   },
   "file_extension": ".py",
   "mimetype": "text/x-python",
   "name": "python",
   "nbconvert_exporter": "python",
   "pygments_lexer": "ipython3",
   "version": "3.11.5"
  }
 },
 "nbformat": 4,
 "nbformat_minor": 5
}
